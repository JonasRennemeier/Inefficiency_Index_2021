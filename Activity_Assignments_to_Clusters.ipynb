{
 "cells": [
  {
   "cell_type": "markdown",
   "metadata": {},
   "source": [
    "## BPI 2019: P2P Process"
   ]
  },
  {
   "cell_type": "markdown",
   "metadata": {},
   "source": [
    "- General application"
   ]
  },
  {
   "cell_type": "code",
   "execution_count": null,
   "metadata": {},
   "outputs": [],
   "source": [
    "#clusters of the inefficiency index\n",
    "S2 = []\n",
    "S1 = ['Create Purchase Order Item', 'Create Purchase Requisition Item']\n",
    "S0 = ['Block Purchase Order Item', 'Cancel Goods Receipt', 'Cancel Invoice Receipt', 'Cancel Subsequent Invoice', 'Change Approval for Purchase Order', 'Change Currency', 'Change Delivery Indicator', 'Change Final Invoice Indicator', 'Change payment term', 'Change Price', 'Change Quantity', 'Change Rejection Indicator', 'Change Storage Location', 'Delete Purchase Order Item', 'Reactivate Purchase Order Item', 'Record Goods Receipt', 'Release Purchase Order', 'Release Purchase Requisition', 'Remove Payment Block', 'Set Payment Block', 'SRM: Deleted', 'SRM: Held', 'SRM: Incomplete', 'SRM: Transfer Failed (E.Sys.)', 'Update Order Confirmation']\n",
    "C2 = ['Record Goods Receipt', 'Record Subsequent Invoice']\n",
    "C1 = ['Receive Order Confirmation', 'Record Invoice Receipt', 'Record Service Entry Sheet', 'SRM: Awaiting Approval', 'SRM: Change was Transmitted', 'SRM: Complete', 'SRM: Created', 'SRM: Document Completed', 'SRM: In Transfer to Execution Syst.', 'SRM: Ordered', 'SRM: Transaction Completed', 'Vendor creates debit memo', 'Vendor creates invoice']\n",
    "C0 = ['Block Purchase Order Item', 'Cancel Goods Receipt', 'Cancel Invoice Receipt', 'Cancel Subsequent Invoice', 'Change Approval for Purchase Order', 'Change Currency', 'Change Delivery Indicator', 'Change Final Invoice Indicator', 'Change payment term', 'Change Price', 'Change Quantity', 'Change Rejection Indicator', 'Change Storage Location', 'Create Purchase Requisition Item', 'Delete Purchase Order Item', 'Reactivate Purchase Order Item', 'Release Purchase Order', 'Release Purchase Requisition', 'Remove Payment Block', 'Set Payment Block', 'SRM: Deleted', 'SRM: Held', 'SRM: Incomplete', 'SRM: Transfer Failed (E.Sys.)', 'Update Order Confirmation']\n",
    "E2 = ['Clear Invoice']\n",
    "E1 = []\n",
    "E0 = ['Block Purchase Order Item', 'Cancel Goods Receipt', 'Cancel Invoice Receipt', 'Cancel Subsequent Invoice', 'Change Approval for Purchase Order', 'Change Currency', 'Change Delivery Indicator', 'Change Final Invoice Indicator', 'Change payment term', 'Change Price', 'Change Quantity', 'Change Rejection Indicator', 'Change Storage Location', 'Create Purchase Order Item', 'Create Purchase Requisition Item', 'Delete Purchase Order Item', 'Reactivate Purchase Order Item', 'Release Purchase Order', 'Release Purchase Requisition', 'Remove Payment Block', 'Set Payment Block', 'SRM: Deleted', 'SRM: Held', 'SRM: Incomplete', 'SRM: Transfer Failed (E.Sys.)', 'Update Order Confirmation']"
   ]
  },
  {
   "cell_type": "markdown",
   "metadata": {},
   "source": [
    "- Specific application"
   ]
  },
  {
   "cell_type": "code",
   "execution_count": null,
   "metadata": {},
   "outputs": [],
   "source": [
    "#clusters of the inefficiency index for item category 1\n",
    "S2_type1 = []\n",
    "S1_type1 = ['Create Purchase Order Item', 'Create Purchase Requisition Item']\n",
    "S0_type1 = ['Block Purchase Order Item', 'Cancel Goods Receipt', 'Cancel Invoice Receipt', 'Cancel Subsequent Invoice', 'Change Approval for Purchase Order', 'Change Currency', 'Change Delivery Indicator', 'Change Final Invoice Indicator', 'Change payment term', 'Change Price', 'Change Quantity', 'Change Rejection Indicator', 'Change Storage Location', 'Delete Purchase Order Item', 'Reactivate Purchase Order Item', 'Record Goods Receipt', 'Release Purchase Order', 'Release Purchase Requisition', 'Remove Payment Block', 'Set Payment Block', 'SRM: Deleted', 'SRM: Held', 'SRM: Incomplete', 'SRM: Transfer Failed (E.Sys.)', 'Update Order Confirmation']\n",
    "C2_type1 = ['Record Goods Receipt', 'Record Subsequent Invoice']\n",
    "C1_type1 = ['Receive Order Confirmation', 'Record Invoice Receipt', 'Record Service Entry Sheet', 'SRM: Awaiting Approval', 'SRM: Change was Transmitted', 'SRM: Complete', 'SRM: Created', 'SRM: Document Completed', 'SRM: In Transfer to Execution Syst.', 'SRM: Ordered', 'SRM: Transaction Completed', 'Vendor creates debit memo', 'Vendor creates invoice']\n",
    "C0_type1 = ['Block Purchase Order Item', 'Cancel Goods Receipt', 'Cancel Invoice Receipt', 'Cancel Subsequent Invoice', 'Change Approval for Purchase Order', 'Change Currency', 'Change Delivery Indicator', 'Change Final Invoice Indicator', 'Change payment term', 'Change Price', 'Change Quantity', 'Change Rejection Indicator', 'Change Storage Location', 'Create Purchase Requisition Item', 'Delete Purchase Order Item', 'Reactivate Purchase Order Item', 'Release Purchase Order', 'Release Purchase Requisition', 'Remove Payment Block', 'Set Payment Block', 'SRM: Deleted', 'SRM: Held', 'SRM: Incomplete', 'SRM: Transfer Failed (E.Sys.)', 'Update Order Confirmation']\n",
    "E2_type1 = ['Clear Invoice']\n",
    "E1_type1 = []\n",
    "E0_type1 = ['Block Purchase Order Item', 'Cancel Goods Receipt', 'Cancel Invoice Receipt', 'Cancel Subsequent Invoice', 'Change Approval for Purchase Order', 'Change Currency', 'Change Delivery Indicator', 'Change Final Invoice Indicator', 'Change payment term', 'Change Price', 'Change Quantity', 'Change Rejection Indicator', 'Change Storage Location', 'Create Purchase Order Item', 'Create Purchase Requisition Item', 'Delete Purchase Order Item', 'Reactivate Purchase Order Item', 'Release Purchase Order', 'Release Purchase Requisition', 'Remove Payment Block', 'Set Payment Block', 'SRM: Deleted', 'SRM: Held', 'SRM: Incomplete', 'SRM: Transfer Failed (E.Sys.)', 'Update Order Confirmation']"
   ]
  },
  {
   "cell_type": "code",
   "execution_count": null,
   "metadata": {},
   "outputs": [],
   "source": [
    "#clusters of the inefficiency index for item category 2\n",
    "S2_type2 = []\n",
    "S1_type2 = ['Create Purchase Order Item', 'Create Purchase Requisition Item']\n",
    "S0_type2 = ['Block Purchase Order Item', 'Cancel Goods Receipt', 'Cancel Invoice Receipt', 'Cancel Subsequent Invoice', 'Change Approval for Purchase Order', 'Change Currency', 'Change Delivery Indicator', 'Change Final Invoice Indicator', 'Change payment term', 'Change Price', 'Change Quantity', 'Change Rejection Indicator', 'Change Storage Location', 'Delete Purchase Order Item', 'Reactivate Purchase Order Item', 'Record Goods Receipt', 'Release Purchase Order', 'Release Purchase Requisition', 'Set Payment Block', 'SRM: Deleted', 'SRM: Held', 'SRM: Incomplete', 'SRM: Transfer Failed (E.Sys.)', 'Update Order Confirmation']\n",
    "C2_type2 = ['Record Goods Receipt', 'Record Subsequent Invoice']\n",
    "C1_type2 = ['Receive Order Confirmation', 'Record Invoice Receipt', 'Record Service Entry Sheet', 'Remove Payment Block', 'SRM: Awaiting Approval', 'SRM: Change was Transmitted', 'SRM: Complete', 'SRM: Created', 'SRM: Document Completed', 'SRM: In Transfer to Execution Syst.', 'SRM: Ordered', 'SRM: Transaction Completed', 'Vendor creates debit memo', 'Vendor creates invoice']\n",
    "C0_type2 = ['Block Purchase Order Item', 'Cancel Goods Receipt', 'Cancel Invoice Receipt', 'Cancel Subsequent Invoice', 'Change Approval for Purchase Order', 'Change Currency', 'Change Delivery Indicator', 'Change Final Invoice Indicator', 'Change payment term', 'Change Price', 'Change Quantity', 'Change Rejection Indicator', 'Change Storage Location', 'Create Purchase Requisition Item', 'Delete Purchase Order Item', 'Reactivate Purchase Order Item', 'Release Purchase Order', 'Release Purchase Requisition', 'Set Payment Block', 'SRM: Deleted', 'SRM: Held', 'SRM: Incomplete', 'SRM: Transfer Failed (E.Sys.)', 'Update Order Confirmation']\n",
    "E2_type2 = ['Clear Invoice']\n",
    "E1_type2 = []\n",
    "E0_type2 = ['Block Purchase Order Item', 'Cancel Goods Receipt', 'Cancel Invoice Receipt', 'Cancel Subsequent Invoice', 'Change Approval for Purchase Order', 'Change Currency', 'Change Delivery Indicator', 'Change Final Invoice Indicator', 'Change payment term', 'Change Price', 'Change Quantity', 'Change Rejection Indicator', 'Change Storage Location', 'Create Purchase Order Item', 'Create Purchase Requisition Item', 'Delete Purchase Order Item', 'Reactivate Purchase Order Item', 'Release Purchase Order', 'Release Purchase Requisition', 'Set Payment Block', 'SRM: Deleted', 'SRM: Held', 'SRM: Incomplete', 'SRM: Transfer Failed (E.Sys.)', 'Update Order Confirmation']"
   ]
  },
  {
   "cell_type": "code",
   "execution_count": null,
   "metadata": {},
   "outputs": [],
   "source": [
    "#clusters of the inefficiency index for item category 3\n",
    "S2_type3 = []\n",
    "S1_type3 = ['Create Purchase Order Item', 'Create Purchase Requisition Item']\n",
    "S0_type3 = ['Block Purchase Order Item', 'Cancel Goods Receipt', 'Cancel Invoice Receipt', 'Cancel Subsequent Invoice', 'Change Approval for Purchase Order', 'Change Currency', 'Change Delivery Indicator', 'Change Final Invoice Indicator', 'Change payment term', 'Change Price', 'Change Quantity', 'Change Rejection Indicator', 'Change Storage Location', 'Delete Purchase Order Item', 'Reactivate Purchase Order Item', 'Record Goods Receipt', 'Release Purchase Order', 'Release Purchase Requisition', 'Remove Payment Block', 'Set Payment Block', 'SRM: Deleted', 'SRM: Held', 'SRM: Incomplete', 'SRM: Transfer Failed (E.Sys.)', 'Update Order Confirmation']\n",
    "C2_type3 = ['Record Subsequent Invoice']\n",
    "C1_type3 = ['Receive Order Confirmation', 'Record Invoice Receipt', 'Record Service Entry Sheet', 'SRM: Awaiting Approval', 'SRM: Change was Transmitted', 'SRM: Complete', 'SRM: Created', 'SRM: Document Completed', 'SRM: In Transfer to Execution Syst.', 'SRM: Ordered', 'SRM: Transaction Completed', 'Vendor creates debit memo', 'Vendor creates invoice']\n",
    "C0_type3 = ['Block Purchase Order Item', 'Cancel Goods Receipt', 'Cancel Invoice Receipt', 'Cancel Subsequent Invoice', 'Change Approval for Purchase Order', 'Change Currency', 'Change Delivery Indicator', 'Change Final Invoice Indicator', 'Change payment term', 'Change Price', 'Change Quantity', 'Change Rejection Indicator', 'Change Storage Location', 'Create Purchase Requisition Item', 'Delete Purchase Order Item', 'Reactivate Purchase Order Item', 'Record Goods Receipt', 'Release Purchase Order', 'Release Purchase Requisition', 'Remove Payment Block', 'Set Payment Block', 'SRM: Deleted', 'SRM: Held', 'SRM: Incomplete', 'SRM: Transfer Failed (E.Sys.)', 'Update Order Confirmation']\n",
    "E2_type3 = ['Clear Invoice']\n",
    "E1_type3 = []\n",
    "E0_type3 = ['Block Purchase Order Item', 'Cancel Goods Receipt', 'Cancel Invoice Receipt', 'Cancel Subsequent Invoice', 'Change Approval for Purchase Order', 'Change Currency', 'Change Delivery Indicator', 'Change Final Invoice Indicator', 'Change payment term', 'Change Price', 'Change Quantity', 'Change Rejection Indicator', 'Change Storage Location', 'Create Purchase Order Item', 'Create Purchase Requisition Item', 'Delete Purchase Order Item', 'Reactivate Purchase Order Item', 'Record Goods Receipt', 'Release Purchase Order', 'Release Purchase Requisition', 'Remove Payment Block', 'Set Payment Block', 'SRM: Deleted', 'SRM: Held', 'SRM: Incomplete', 'SRM: Transfer Failed (E.Sys.)', 'Update Order Confirmation']"
   ]
  },
  {
   "cell_type": "code",
   "execution_count": null,
   "metadata": {},
   "outputs": [],
   "source": [
    "#clusters of the inefficiency index for item category 4\n",
    "S2_type4 = []\n",
    "S1_type4 = ['Create Purchase Order Item', 'Create Purchase Requisition Item']\n",
    "S0_type4 = ['Block Purchase Order Item', 'Cancel Goods Receipt', 'Cancel Invoice Receipt', 'Cancel Subsequent Invoice', 'Change Approval for Purchase Order', 'Change Currency', 'Change Delivery Indicator', 'Change Final Invoice Indicator', 'Change payment term', 'Change Price', 'Change Quantity', 'Change Rejection Indicator', 'Change Storage Location', 'Clear Invoice', 'Delete Purchase Order Item', 'Reactivate Purchase Order Item', 'Record Goods Receipt', 'Record Invoice Receipt', 'Record Subsequent Invoice', 'Release Purchase Order', 'Release Purchase Requisition', 'Remove Payment Block', 'Set Payment Block', 'SRM: Deleted', 'SRM: Held', 'SRM: Incomplete', 'SRM: Transfer Failed (E.Sys.)', 'Update Order Confirmation', 'Vendor creates invoice']\n",
    "C2_type4 = []\n",
    "C1_type4 = ['Receive Order Confirmation', 'Record Service Entry Sheet', 'SRM: Awaiting Approval', 'SRM: Change was Transmitted', 'SRM: Complete', 'SRM: Created', 'SRM: Document Completed', 'SRM: In Transfer to Execution Syst.', 'SRM: Ordered', 'SRM: Transaction Completed', 'Vendor creates debit memo']\n",
    "C0_type4 = ['Block Purchase Order Item', 'Cancel Goods Receipt', 'Cancel Invoice Receipt', 'Cancel Subsequent Invoice', 'Change Approval for Purchase Order', 'Change Currency', 'Change Delivery Indicator', 'Change Final Invoice Indicator', 'Change payment term', 'Change Price', 'Change Quantity', 'Change Rejection Indicator', 'Change Storage Location', 'Clear Invoice', 'Create Purchase Requisition Item', 'Delete Purchase Order Item', 'Reactivate Purchase Order Item', 'Record Invoice Receipt', 'Record Subsequent Invoice', 'Release Purchase Order', 'Release Purchase Requisition', 'Remove Payment Block', 'Set Payment Block', 'SRM: Deleted', 'SRM: Held', 'SRM: Incomplete', 'SRM: Transfer Failed (E.Sys.)', 'Update Order Confirmation', 'Vendor creates invoice']\n",
    "E2_type4 = ['Record Goods Receipt']\n",
    "E1_type4 = []\n",
    "E0_type4 = ['Block Purchase Order Item', 'Cancel Goods Receipt', 'Cancel Invoice Receipt', 'Cancel Subsequent Invoice', 'Change Approval for Purchase Order', 'Change Currency', 'Change Delivery Indicator', 'Change Final Invoice Indicator', 'Change payment term', 'Change Price', 'Change Quantity', 'Change Rejection Indicator', 'Change Storage Location', 'Clear Invoice', 'Create Purchase Order Item', 'Create Purchase Requisition Item', 'Delete Purchase Order Item', 'Reactivate Purchase Order Item', 'Record Invoice Receipt', 'Record Subsequent Invoice', 'Release Purchase Order', 'Release Purchase Requisition', 'Remove Payment Block', 'Set Payment Block', 'SRM: Deleted', 'SRM: Held', 'SRM: Incomplete', 'SRM: Transfer Failed (E.Sys.)', 'Update Order Confirmation', 'Vendor creates invoice']"
   ]
  },
  {
   "cell_type": "markdown",
   "metadata": {},
   "source": [
    "## BPI 2020: Administrative Process"
   ]
  },
  {
   "cell_type": "markdown",
   "metadata": {},
   "source": [
    "- Specific application"
   ]
  },
  {
   "cell_type": "code",
   "execution_count": null,
   "metadata": {},
   "outputs": [],
   "source": [
    "#clusters of the inefficiency index for the domestic log\n",
    "S2_domestic = []\n",
    "S1_domestic = [\"Declaration SUBMITTED by EMPLOYEE\"]\n",
    "S0_domestic = [\"Declaration APPROVED by PRE_APPROVER\", \"Declaration FOR_APPROVAL by ADMINISTRATION\", \"Declaration FOR_APPROVAL by PRE_APPROVER\", \"Declaration FOR_APPROVAL by SUPERVISOR\", \"Declaration REJECTED by MISSING\", \"Declaration REJECTED by PRE_APPROVER\"]\n",
    "C2_domestic = [\"Declaration APPROVED by ADMINISTRATION\", \"Declaration APPROVED by BUDGET OWNER\", \"Declaration REJECTED by ADMINISTRATION\", \"Declaration REJECTED by BUDGET OWNER\", \"Declaration REJECTED by SUPERVISOR\", \"Declaration SAVED by EMPLOYEE\"]\n",
    "C1_domestic = [\"Declaration FINAL_APPROVED by SUPERVISOR\", \"Request Payment\"]\n",
    "C0_domestic = [\"Declaration APPROVED by PRE_APPROVER\", \"Declaration FOR_APPROVAL by ADMINISTRATION\", \"Declaration FOR_APPROVAL by PRE_APPROVER\", \"Declaration FOR_APPROVAL by SUPERVISOR\", \"Declaration REJECTED by MISSING\", \"Declaration REJECTED by PRE_APPROVER\"]\n",
    "E2_domestic = []\n",
    "E1_domestic = [\"Declaration REJECTED by EMPLOYEE\", \"Payment Handled\"]\n",
    "E0_domestic = [\"Declaration APPROVED by PRE_APPROVER\", \"Declaration FOR_APPROVAL by ADMINISTRATION\", \"Declaration FOR_APPROVAL by PRE_APPROVER\", \"Declaration FOR_APPROVAL by SUPERVISOR\", \"Declaration REJECTED by MISSING\", \"Declaration REJECTED by PRE_APPROVER\"]"
   ]
  },
  {
   "cell_type": "code",
   "execution_count": 1,
   "metadata": {},
   "outputs": [],
   "source": [
    "#clusters of the inefficiency index for the international log\n",
    "S2_international = []\n",
    "S1_international = [\"Permit SUBMITTED by EMPLOYEE\"]\n",
    "S0_international = [\"Declaration APPROVED by PRE_APPROVER\", \"Declaration REJECTED by MISSING\", \"Declaration REJECTED by PRE_APPROVER\", \"Declaration SUBMITTED by EMPLOYEE\", \"Permit APPROVED by PRE_APPROVER\", \"Permit REJECTED by MISSING\",\"Permit REJECTED by PRE_APPROVER\", \"Start trip\"]\n",
    "C2_international = [\"Declaration APPROVED by ADMINISTRATION\",\"Declaration APPROVED by BUDGET OWNER\", \"Declaration APPROVED by SUPERVISOR\",\"Declaration REJECTED by ADMINISTRATION\",\"Declaration REJECTED by BUDGET OWNER\",\"Declaration REJECTED by DIRECTOR\",\"Declaration REJECTED by SUPERVISOR\",\"Declaration SAVED by EMPLOYEE\",\"Declaration SUBMITTED by EMPLOYEE\",\"Permit APPROVED by ADMINISTRATION\",\"Permit APPROVED by BUDGET OWNER\", \"Permit APPROVED by SUPERVISOR\",\"Permit REJECTED by ADMINISTRATION\",\"Permit REJECTED by BUDGET OWNER\",\"Permit REJECTED by DIRECTOR\",\"Permit REJECTED by SUPERVISOR\",\"Send Reminder\"]\n",
    "C1_international = [\"Declaration FINAL_APPROVED by DIRECTOR\",\"Declaration FINAL_APPROVED by SUPERVISOR\",\"End trip\",\"Permit FINAL_APPROVED by DIRECTOR\",\"Permit FINAL_APPROVED by SUPERVISOR\",\"Request Payment\", \"Start trip\"]\n",
    "C0_international = [\"Declaration APPROVED by PRE_APPROVER\",\"Declaration REJECTED by MISSING\",\"Declaration REJECTED by PRE_APPROVER\",\"Permit APPROVED by PRE_APPROVER\",\"Permit REJECTED by MISSING\",\"Permit REJECTED by PRE_APPROVER\"]\n",
    "E2_international = []\n",
    "E1_international = [\"Declaration REJECTED by EMPLOYEE\",\"Payment Handled\",\"Permit REJECTED by EMPLOYEE\"]\n",
    "E0_international = [\"Declaration APPROVED by PRE_APPROVER\",\"Declaration REJECTED by MISSING\",\"Declaration REJECTED by PRE_APPROVER\",\"Permit APPROVED by PRE_APPROVER\",\"Permit REJECTED by MISSING\",\"Permit REJECTED by PRE_APPROVER\"]"
   ]
  },
  {
   "cell_type": "code",
   "execution_count": null,
   "metadata": {},
   "outputs": [],
   "source": [
    "#clusters of the inefficiency index for the perit log\n",
    "S2_permit = []\n",
    "S1_permit = [\"Permit SUBMITTED by EMPLOYEE\"]\n",
    "S0_permit = [\"Declaration APPROVED by PRE_APPROVER\",\"Declaration REJECTED by MISSING\",\"Declaration REJECTED by PRE_APPROVER\",\"Declaration SUBMITTED by EMPLOYEE\",\"Permit APPROVED by PRE_APPROVER\",\"Permit FOR_APPROVAL by ADMINISTRATION\",\"Permit FOR_APPROVAL by SUPERVISOR\",\"Permit REJECTED by MISSING\",\"Permit REJECTED by PRE_APPROVER\",\"Request For Payment APPROVED by PRE_APPROVER\",\"Request For Payment REJECTED by MISSING\",\"Request For Payment REJECTED by PRE_APPROVER\",\"Request For Payment SUBMITTED by EMPLOYEE\",\"Start trip\"]\n",
    "C2_permit = [\"Declaration APPROVED by ADMINISTRATION\",\"Declaration APPROVED by BUDGET OWNER\",\"Declaration APPROVED by SUPERVISOR\",\"Declaration REJECTED by ADMINISTRATION\",\"Declaration REJECTED by BUDGET OWNER\",\"Declaration REJECTED by DIRECTOR\",\"Declaration REJECTED by SUPERVISOR\",\"Declaration SAVED by EMPLOYEE\",\"Declaration SUBMITTED by EMPLOYEE\",\"Permit APPROVED by ADMINISTRATION\",\"Permit APPROVED by BUDGET OWNER\",\"Permit APPROVED by SUPERVISOR\",\"Permit REJECTED by ADMINISTRATION\",\"Permit REJECTED by BUDGET OWNER\",\"Permit REJECTED by DIRECTOR\",\"Permit REJECTED by SUPERVISOR\",\"Permit SAVED by EMPLOYEE\",\"Request For Payment APPROVED by ADMINISTRATION\",\"Request For Payment APPROVED by BUDGET OWNER\", \"Request For Payment APPROVED by SUPERVISOR\",\"Request For Payment REJECTED by ADMINISTRATION\",\"Request For Payment REJECTED by BUDGET OWNER\",\"Request For Payment REJECTED by SUPERVISOR\",\"Request For Payment SAVED by EMPLOYEE\",\"Request For Payment SUBMITTED by EMPLOYEE\",\"Send Reminder\"]\n",
    "C1_permit = [\"Declaration FINAL_APPROVED by DIRECTOR\",\"Declaration FINAL_APPROVED by SUPERVISOR\",\"End trip\",\"Permit FINAL_APPROVED by DIRECTOR\",\"Permit FINAL_APPROVED by SUPERVISOR\",\"Request For Payment FINAL_APPROVED by DIRECTOR\",\"Request For Payment FINAL_APPROVED by SUPERVISOR\",\"Request Payment\",\"Start trip\"]\n",
    "C0_permit = [\"Declaration APPROVED by PRE_APPROVER\",\"Declaration REJECTED by MISSING\",\"Declaration REJECTED by PRE_APPROVER\",\"Permit APPROVED by PRE_APPROVER\",\"Permit FOR_APPROVAL by ADMINISTRATION\",\"Permit FOR_APPROVAL by SUPERVISOR\",\"Permit REJECTED by MISSING\",\"Permit REJECTED by PRE_APPROVER\",\"Request For Payment APPROVED by PRE_APPROVER\",\"Request For Payment REJECTED by MISSING\",\"Request For Payment REJECTED by PRE_APPROVER\"]\n",
    "E2_permit = []\n",
    "E1_permit = [\"Declaration REJECTED by EMPLOYEE\",\"Payment Handled\",\"Permit REJECTED by EMPLOYEE\",\"Request For Payment REJECTED by EMPLOYEE\"]\n",
    "E0_permit = [\"Declaration APPROVED by PRE_APPROVER\",\"Declaration REJECTED by MISSING\",\"Declaration REJECTED by PRE_APPROVER\",\"Permit APPROVED by PRE_APPROVER\",\"Permit FOR_APPROVAL by ADMINISTRATION\",\"Permit FOR_APPROVAL by SUPERVISOR\",\"Permit REJECTED by MISSING\",\"Permit REJECTED by PRE_APPROVER\",\"Request For Payment APPROVED by PRE_APPROVER\",\"Request For Payment REJECTED by MISSING\",\"Request For Payment REJECTED by PRE_APPROVER\"]"
   ]
  },
  {
   "cell_type": "code",
   "execution_count": null,
   "metadata": {},
   "outputs": [],
   "source": [
    "#clusters of the inefficiency index for the prepaid log\n",
    "S2_prepaid = []\n",
    "S1_prepaid = [\"Permit SUBMITTED by EMPLOYEE\"]\n",
    "S0_prepaid = [\"Permit APPROVED by PRE_APPROVER\",\"Permit REJECTED by MISSING\",\"Permit REJECTED by PRE_APPROVER\",\"Request For Payment APPROVED by PRE_APPROVER\",\"Request For Payment REJECTED by MISSING\",\"Request For Payment REJECTED by PRE_APPROVER\",\"Request For Payment SUBMITTED by EMPLOYEE\"]\n",
    "C2_prepaid = [\"Permit APPROVED by ADMINISTRATION\",\"Permit APPROVED by BUDGET OWNER\",\"Permit APPROVED by SUPERVISOR\",\"Permit REJECTED by ADMINISTRATION\",\"Permit REJECTED by BUDGET OWNER\",\"Permit REJECTED by SUPERVISOR\",\"Request For Payment APPROVED by ADMINISTRATION\",\"Request For Payment APPROVED by BUDGET OWNER\",\"Request For Payment APPROVED by SUPERVISOR\",\"Request For Payment REJECTED by ADMINISTRATION\",\"Request For Payment REJECTED by BUDGET OWNER\",\"Request For Payment REJECTED by SUPERVISOR\",\"Request For Payment SAVED by EMPLOYEE\",\"Request For Payment SUBMITTED by EMPLOYEE\"]\n",
    "C1_prepaid = [\"Permit FINAL_APPROVED by DIRECTOR\",\"Permit FINAL_APPROVED by SUPERVISOR\",\"Request For Payment FINAL_APPROVED by DIRECTOR\",\"Request For Payment FINAL_APPROVED by SUPERVISOR\",\"Request Payment\"]\n",
    "C0_prepaid = [\"Permit APPROVED by PRE_APPROVER\",\"Permit REJECTED by MISSING\",\"Permit REJECTED by PRE_APPROVER\",\"Request For Payment APPROVED by PRE_APPROVER\",\"Request For Payment REJECTED by MISSING\",\"Request For Payment REJECTED by PRE_APPROVER\"]\n",
    "E2_prepaid = []\n",
    "E1_prepaid = [\"Payment Handled\",\"Permit REJECTED by EMPLOYEE\",\"Request For Payment REJECTED by EMPLOYEE\"]\n",
    "E0_prepaid = [\"Permit APPROVED by PRE_APPROVER\",\"Permit REJECTED by MISSING\",\"Permit REJECTED by PRE_APPROVER\",\"Request For Payment APPROVED by PRE_APPROVER\",\"Request For Payment REJECTED by MISSING\",\"Request For Payment REJECTED by PRE_APPROVER\"]"
   ]
  },
  {
   "cell_type": "code",
   "execution_count": null,
   "metadata": {},
   "outputs": [],
   "source": [
    "#clusters of the inefficiency index for the request log\n",
    "S2_request = []\n",
    "S1_request = [\"Request For Payment SUBMITTED by EMPLOYEE\"]\n",
    "S0_request = [\"Request For Payment APPROVED by PRE_APPROVER\",\"Request For Payment FOR_APPROVAL by ADMINISTRATION\",\"Request For Payment FOR_APPROVAL by SUPERVISOR\",\"Request For Payment REJECTED by MISSING\",\"Request For Payment REJECTED by PRE_APPROVER\"]\n",
    "C2_request = [\"Request For Payment APPROVED by ADMINISTRATION\",\"Request For Payment APPROVED by BUDGET OWNER\",\"Request For Payment APPROVED by SUPERVISOR\",\"Request For Payment REJECTED by ADMINISTRATION\",\"Request For Payment REJECTED by BUDGET OWNER\",\"Request For Payment REJECTED by SUPERVISOR\",\"Request For Payment SAVED by EMPLOYEE\"]\n",
    "C1_request = [\"Request For Payment FINAL_APPROVED by BUDGET OWNER\",\"Request For Payment FINAL_APPROVED by DIRECTOR\",\"Request For Payment FINAL_APPROVED by SUPERVISOR\",\"Request Payment\"]\n",
    "C0_request = [\"Request For Payment APPROVED by PRE_APPROVER\",\"Request For Payment FOR_APPROVAL by ADMINISTRATION\",\"Request For Payment FOR_APPROVAL by SUPERVISOR\",\"Request For Payment REJECTED by MISSING\",\"Request For Payment REJECTED by PRE_APPROVER\"]\n",
    "E2_request = []\n",
    "E1_request = [\"Payment Handled\",\"Request For Payment REJECTED by EMPLOYEE\"]\n",
    "E0_request = [\"Request For Payment APPROVED by PRE_APPROVER\",\"Request For Payment FOR_APPROVAL by ADMINISTRATION\",\"Request For Payment FOR_APPROVAL by SUPERVISOR\",\"Request For Payment REJECTED by MISSING\",\"Request For Payment REJECTED by PRE_APPROVER\"]"
   ]
  }
 ],
 "metadata": {
  "kernelspec": {
   "display_name": "Python 3",
   "language": "python",
   "name": "python3"
  },
  "language_info": {
   "codemirror_mode": {
    "name": "ipython",
    "version": 3
   },
   "file_extension": ".py",
   "mimetype": "text/x-python",
   "name": "python",
   "nbconvert_exporter": "python",
   "pygments_lexer": "ipython3",
   "version": "3.7.7"
  }
 },
 "nbformat": 4,
 "nbformat_minor": 4
}
